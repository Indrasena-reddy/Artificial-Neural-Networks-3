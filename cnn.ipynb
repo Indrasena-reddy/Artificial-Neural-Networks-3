{
 "cells": [
  {
   "cell_type": "markdown",
   "id": "949d06c1",
   "metadata": {},
   "source": [
    "# Assignment 1 - part 2\n",
    "\n",
    "## Convolutional neural network\n",
    "\n",
    "Develop the complete training and evaluation pipeline for a convolutional neural network model.\n",
    "This shall cover all the stages discussed in the course, starting from data preparation and finishing with model evaluation.\n",
    "You can (you should) use the full functionality of PyTorch and all its packages.\n",
    "\n",
    "You can write most of your code as standard python scripts and packages outside jupyter notebook.\n",
    "The calls to the functionality shall, however, be executed from this notebook (not command-line).\n",
    "All printouts and images should also be displayed in this notebook."
   ]
  },
  {
   "cell_type": "markdown",
   "id": "6cc59e24",
   "metadata": {},
   "source": [
    "### Model training and evaluation\n",
    "\n",
    "Define the function `cnn_train` for training and evaluating a CNN model for classification of **FashionMNIST** data.\n",
    "The function shall be flexible so that it can take in the parameters listed in the code cell bellow. We will test it with various values!\n",
    "\n",
    "The architecture of the CNN shall be composed of blocks, where each block contains \n",
    "* a convolutional layer with 3x3 kernel without any downsampling\n",
    "* nonlinearity (your choice)\n",
    "* 2x2 maxpooling layer with stride 2\n",
    "\n",
    "The number of output channels in these blocks shall be flexible to be set by the user within `out_channels`.\n",
    "The network shall finish by 2 fully connected layers to produce the outputs (you will need to automate the sizing of these so that it can continue from arbitrary setting of the blocks that preceed it).\n",
    "\n",
    "All other decisions related to the complete train and test pipeline you need to do on your own.\n",
    "\n",
    "The `cnn_train` function shall return \n",
    "* the trained model `cnn_model`\n",
    "* train and test losses in a 2-long tuple `(train_losses, test_losses)`, where train and test losses are simple python lists\n",
    "* anything else you deem important or useful (this is for you really, in case you want to re-use the function later etc.)\n",
    "\n",
    "Furthermore, the function shall be able to produce monitoring plots of train and test losses and train and test accuracies.\n",
    "There is no pre-defined design for the plots.\n",
    "However, you shall annotate the graphs so that they are well readable and understandable."
   ]
  },
  {
   "cell_type": "code",
   "execution_count": null,
   "id": "a51fe2dc",
   "metadata": {},
   "outputs": [],
   "source": [
    "# define function cnn_train so that it can be run from this cell\n",
    "from xxx import cnn_train\n",
    "\n",
    "# user paramters\n",
    "out_channels = [11, 11, ... , 11]  # list of number of output channels to be used in the cnn blocks\n",
    "epochs = 11  # number of epochs\n",
    "batch_size = 11  # training batch size\n",
    "learning_rate = 11  # learning rate\n",
    "cuda = False  # true or false to train the model on cuda or not\n",
    "plots = True  # true or false to produce plots of train and test losses and accuracies\n",
    "\n",
    "# train and evaluate mlp_model\n",
    "cnn_model, losses, ... = cnn_train(hidden_dims, epochs, batch_size, learning_rate, cuda, plots)\n",
    "print(cnn_model)"
   ]
  },
  {
   "cell_type": "markdown",
   "id": "bbcb3e98",
   "metadata": {},
   "source": [
    "### Model application\n",
    "\n",
    "Define a simple utility function `cnn_apply` that uses the train model to classify 10 examples of the test set and displays the 10 images in a grid together with their true and predicted labels."
   ]
  },
  {
   "cell_type": "code",
   "execution_count": null,
   "id": "35f8e976",
   "metadata": {},
   "outputs": [],
   "source": [
    "# define function mlp_train so that it can be run from this cell\n",
    "from xxx import cnn_apply\n",
    "\n",
    "# user parameters\n",
    "test_indexes = [11, 11, 11, 11, 11, 11, 11, 11, 11, 11]  # list of 10 indexes - examples to extract from test set\n",
    "\n",
    "cnn_apply(cnn_model, test_indexes)"
   ]
  },
  {
   "cell_type": "markdown",
   "id": "6c46ec3d",
   "metadata": {},
   "source": [
    "### Train and apply model\n",
    "\n",
    "Use your functions defined above to train the cnn model. Try different values of the hyper-paramter (user parameters) settings. You shall achieve better test accuracy than in the mlp model from Part 1.\n",
    "\n",
    "Produce the results (plots etc.) here and comment shortly on the results and the hyper-parameters you tested."
   ]
  },
  {
   "cell_type": "markdown",
   "id": "d2e26c2a",
   "metadata": {},
   "source": [
    "### Optional voluntary exercise\n",
    "\n",
    "Try to enhance your CNN architecture by introducing skip connections around the CNN blocks (as in ResNet model)? Can you achieve better results with the same number of epochs?"
   ]
  }
 ],
 "metadata": {
  "kernelspec": {
   "display_name": "Python 3 (ipykernel)",
   "language": "python",
   "name": "python3"
  },
  "language_info": {
   "codemirror_mode": {
    "name": "ipython",
    "version": 3
   },
   "file_extension": ".py",
   "mimetype": "text/x-python",
   "name": "python",
   "nbconvert_exporter": "python",
   "pygments_lexer": "ipython3",
   "version": "3.10.9"
  }
 },
 "nbformat": 4,
 "nbformat_minor": 5
}
