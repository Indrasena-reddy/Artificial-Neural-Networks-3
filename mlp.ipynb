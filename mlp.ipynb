{
 "cells": [
  {
   "cell_type": "markdown",
   "id": "949d06c1",
   "metadata": {},
   "source": [
    "# Assignment 1 - part 1\n",
    "\n",
    "## Feed forward network (multilayer perceptron)\n",
    "\n",
    "Develop the complete training and evaluation pipeline for a fully connected feed forward network.\n",
    "This shall cover all the stages discussed in the course, starting from data preparation and finishing with model evaluation.\n",
    "You can (you should) use the full functionality of PyTorch and all its packages.\n",
    "\n",
    "You can write most of your code as standard python scripts and packages outside jupyter notebook.\n",
    "The calls to the functionality shall, however, be executed from this notebook (not command-line).\n",
    "All printouts and images should also be displayed in this notebook."
   ]
  },
  {
   "cell_type": "markdown",
   "id": "6cc59e24",
   "metadata": {},
   "source": [
    "### Model training and evaluation\n",
    "\n",
    "Define the function `mlp_train` for training and evaluating an MLP model for classification of **FashionMNIST** data.\n",
    "The function shall be flexible so that it can take in the parameters listed in the code cell bellow. We will test it with various values!\n",
    "\n",
    "The architecture of the MLP shall follow the standard sequential structure of linear layers alternating with non-linearieties (you decide which one).\n",
    "The number of layers within the network and their hidden size shall be specififed by the `hidden_dims` vector, that the user can set arbitrarily.\n",
    "All other decisions related to the complete train and test pipeline you need to do on your own.\n",
    "\n",
    "The `mlp_train` function shall return \n",
    "* the trained model `mlp_model`\n",
    "* train and test losses in a 2-long tuple `(train_losses, test_losses)`, where train and test losses are simple python lists\n",
    "* anything else you deem important or useful (this is for you really, in case you want to re-use the function later etc.)\n",
    "\n",
    "Furthermore, the function shall be able to produce monitoring plots of train and test losses and train and test accuracies.\n",
    "There is no pre-defined design for the plots.\n",
    "However, you shall annotate the graphs so that they are well readable and understandable."
   ]
  },
  {
   "cell_type": "code",
   "execution_count": null,
   "id": "a51fe2dc",
   "metadata": {},
   "outputs": [],
   "source": [
    "# define function mlp_train so that it can be run from this cell\n",
    "from xxx import mlp_train\n",
    "\n",
    "# user paramters\n",
    "hidden_dims = [11, 11, ... , 11]  # list of hidden layer dimensions\n",
    "epochs = 11  # number of epochs\n",
    "batch_size = 11  # training batch size\n",
    "learning_rate = 11  # learning rate\n",
    "cuda = False  # true or false to train the model on cuda or not\n",
    "plots = True  # true or false to produce plots of train and test losses and accuracies\n",
    "\n",
    "# train and evaluate mlp_model\n",
    "mlp_model, losses, ... = mlp_train(hidden_dims, epochs, batch_size, learning_rate, cuda, plots)\n",
    "print(mlp_model)"
   ]
  },
  {
   "cell_type": "markdown",
   "id": "388b64cd",
   "metadata": {},
   "source": [
    "### Model application\n",
    "\n",
    "Define a simple utility function `mlp_apply` that uses the train model to classify 10 examples of the test set and displays the 10 images in a grid together with their true and predicted labels."
   ]
  },
  {
   "cell_type": "code",
   "execution_count": null,
   "id": "decd3420",
   "metadata": {},
   "outputs": [],
   "source": [
    "# define function mlp_train so that it can be run from this cell\n",
    "from xxx import mlp_apply\n",
    "\n",
    "# user parameters\n",
    "test_indexes = [11, 11, 11, 11, 11, 11, 11, 11, 11, 11]  # list of 10 indexes - examples to extract from test set\n",
    "\n",
    "mlp_apply(mlp_model, test_indexes)"
   ]
  },
  {
   "cell_type": "markdown",
   "id": "fe947cec",
   "metadata": {},
   "source": [
    "### Train and apply model\n",
    "\n",
    "Use your functions defined above to train the mlp model. Try different values of the hyper-paramter (user parameters) settings. You shall achieve at least 85% test accuracy.\n",
    "\n",
    "Produce the results (plots etc.) here and comment shortly on the results and the hyper-parameters you tested."
   ]
  },
  {
   "cell_type": "markdown",
   "id": "dfc69128",
   "metadata": {},
   "source": [
    "### Optional voluntary exercise\n",
    "\n",
    "Try to enhance your MLP architecture by using droppout and/or batchnorm. Can you achieve better results with the same number of epochs?"
   ]
  }
 ],
 "metadata": {
  "kernelspec": {
   "display_name": "Python 3 (ipykernel)",
   "language": "python",
   "name": "python3"
  },
  "language_info": {
   "codemirror_mode": {
    "name": "ipython",
    "version": 3
   },
   "file_extension": ".py",
   "mimetype": "text/x-python",
   "name": "python",
   "nbconvert_exporter": "python",
   "pygments_lexer": "ipython3",
   "version": "3.10.9"
  }
 },
 "nbformat": 4,
 "nbformat_minor": 5
}
